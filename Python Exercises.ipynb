{
 "cells": [
  {
   "cell_type": "code",
   "execution_count": 1,
   "id": "de6b1ed1",
   "metadata": {},
   "outputs": [
    {
     "data": {
      "text/plain": [
       "1"
      ]
     },
     "execution_count": 1,
     "metadata": {},
     "output_type": "execute_result"
    }
   ],
   "source": [
    "\"0123456\".find('1')\n"
   ]
  },
  {
   "cell_type": "code",
   "execution_count": 2,
   "id": "4563b1c0",
   "metadata": {},
   "outputs": [
    {
     "data": {
      "text/plain": [
       "'0246'"
      ]
     },
     "execution_count": 2,
     "metadata": {},
     "output_type": "execute_result"
    }
   ],
   "source": [
    "Numbers=\"0123456\"\n",
    "Numbers[::2]"
   ]
  },
  {
   "cell_type": "code",
   "execution_count": 3,
   "id": "c3db69de",
   "metadata": {},
   "outputs": [
    {
     "data": {
      "text/plain": [
       "'036'"
      ]
     },
     "execution_count": 3,
     "metadata": {},
     "output_type": "execute_result"
    }
   ],
   "source": [
    "Numbers[::3]"
   ]
  },
  {
   "cell_type": "code",
   "execution_count": 4,
   "id": "3ff0abb9",
   "metadata": {},
   "outputs": [
    {
     "data": {
      "text/plain": [
       "['4', '3', '7']"
      ]
     },
     "execution_count": 4,
     "metadata": {},
     "output_type": "execute_result"
    }
   ],
   "source": [
    "B=[\"1\",\"4\",\"3\",\"7\"]\n",
    "B[1:]"
   ]
  },
  {
   "cell_type": "code",
   "execution_count": 5,
   "id": "d2585e1e",
   "metadata": {},
   "outputs": [
    {
     "data": {
      "text/plain": [
       "['3', '7']"
      ]
     },
     "execution_count": 5,
     "metadata": {},
     "output_type": "execute_result"
    }
   ],
   "source": [
    "B[2:]"
   ]
  },
  {
   "cell_type": "code",
   "execution_count": 6,
   "id": "f19f9d1c",
   "metadata": {},
   "outputs": [
    {
     "data": {
      "text/plain": [
       "['7']"
      ]
     },
     "execution_count": 6,
     "metadata": {},
     "output_type": "execute_result"
    }
   ],
   "source": [
    "B[3:]"
   ]
  },
  {
   "cell_type": "code",
   "execution_count": null,
   "id": "bd77206c",
   "metadata": {},
   "outputs": [],
   "source": []
  },
  {
   "cell_type": "code",
   "execution_count": 7,
   "id": "98ff093f",
   "metadata": {},
   "outputs": [
    {
     "data": {
      "text/plain": [
       "{'1', '3', '4', '7', 'B', 'C', 'D', 'E'}"
      ]
     },
     "execution_count": 7,
     "metadata": {},
     "output_type": "execute_result"
    }
   ],
   "source": [
    "A= {'B','C','D','E'}\n",
    "F={'B','D'}\n",
    "A.union(B)"
   ]
  },
  {
   "cell_type": "code",
   "execution_count": 8,
   "id": "f0432210",
   "metadata": {},
   "outputs": [
    {
     "data": {
      "text/plain": [
       "{'B', 'C', 'D', 'E'}"
      ]
     },
     "execution_count": 8,
     "metadata": {},
     "output_type": "execute_result"
    }
   ],
   "source": [
    "A.union(F)"
   ]
  },
  {
   "cell_type": "code",
   "execution_count": 9,
   "id": "157196f8",
   "metadata": {},
   "outputs": [
    {
     "ename": "TypeError",
     "evalue": "unhashable type: 'list'",
     "output_type": "error",
     "traceback": [
      "\u001b[1;31m---------------------------------------------------------------------------\u001b[0m",
      "\u001b[1;31mTypeError\u001b[0m                                 Traceback (most recent call last)",
      "\u001b[1;32m<ipython-input-9-1bf2f1455d6c>\u001b[0m in \u001b[0;36m<module>\u001b[1;34m\u001b[0m\n\u001b[0;32m      1\u001b[0m \u001b[0mAlbum_List\u001b[0m\u001b[1;33m=\u001b[0m\u001b[1;33m[\u001b[0m\u001b[1;34m\"Lola\"\u001b[0m\u001b[1;33m,\u001b[0m\u001b[1;34m\"Lolu\"\u001b[0m\u001b[1;33m,\u001b[0m\u001b[1;34m\"Lade\"\u001b[0m\u001b[1;33m,\u001b[0m\u001b[1;34m\"Lanre\"\u001b[0m\u001b[1;33m,\u001b[0m\u001b[1;34m\"Lizzy\"\u001b[0m\u001b[1;33m]\u001b[0m\u001b[1;33m\u001b[0m\u001b[1;33m\u001b[0m\u001b[0m\n\u001b[1;32m----> 2\u001b[1;33m \u001b[0mSetA\u001b[0m\u001b[1;33m=\u001b[0m\u001b[0mset\u001b[0m\u001b[1;33m(\u001b[0m\u001b[1;33m[\u001b[0m\u001b[0mAlbum_List\u001b[0m\u001b[1;33m]\u001b[0m\u001b[1;33m)\u001b[0m\u001b[1;33m\u001b[0m\u001b[1;33m\u001b[0m\u001b[0m\n\u001b[0m",
      "\u001b[1;31mTypeError\u001b[0m: unhashable type: 'list'"
     ]
    }
   ],
   "source": [
    "Album_List=[\"Lola\",\"Lolu\",\"Lade\",\"Lanre\",\"Lizzy\"]\n",
    "SetA=set([Album_List])"
   ]
  },
  {
   "cell_type": "code",
   "execution_count": 11,
   "id": "45d1916a",
   "metadata": {},
   "outputs": [],
   "source": [
    "Album_List=[\"Lola\",\"Lolu\",\"Lade\",\"Lanre\",\"Lizzy\"]\n",
    "SetA=set((Album_List))"
   ]
  },
  {
   "cell_type": "code",
   "execution_count": 12,
   "id": "df29bcfd",
   "metadata": {},
   "outputs": [
    {
     "data": {
      "text/plain": [
       "{'Lade', 'Lanre', 'Lizzy', 'Lola', 'Lolu'}"
      ]
     },
     "execution_count": 12,
     "metadata": {},
     "output_type": "execute_result"
    }
   ],
   "source": [
    "SetA"
   ]
  },
  {
   "cell_type": "code",
   "execution_count": 13,
   "id": "486cdb30",
   "metadata": {},
   "outputs": [
    {
     "ename": "NameError",
     "evalue": "name 'setA' is not defined",
     "output_type": "error",
     "traceback": [
      "\u001b[1;31m---------------------------------------------------------------------------\u001b[0m",
      "\u001b[1;31mNameError\u001b[0m                                 Traceback (most recent call last)",
      "\u001b[1;32m<ipython-input-13-5385ff5fc388>\u001b[0m in \u001b[0;36m<module>\u001b[1;34m\u001b[0m\n\u001b[1;32m----> 1\u001b[1;33m \u001b[0msetA\u001b[0m\u001b[1;33m.\u001b[0m\u001b[0madd\u001b[0m\u001b[1;33m(\u001b[0m\u001b[1;34m\"Loba\"\u001b[0m\u001b[1;33m)\u001b[0m\u001b[1;33m\u001b[0m\u001b[1;33m\u001b[0m\u001b[0m\n\u001b[0m",
      "\u001b[1;31mNameError\u001b[0m: name 'setA' is not defined"
     ]
    }
   ],
   "source": [
    "setA.add(\"Loba\")"
   ]
  },
  {
   "cell_type": "code",
   "execution_count": 14,
   "id": "2fa956b5",
   "metadata": {},
   "outputs": [],
   "source": [
    "SetA.add(\"Loba\")"
   ]
  },
  {
   "cell_type": "code",
   "execution_count": 15,
   "id": "de7b0512",
   "metadata": {},
   "outputs": [
    {
     "data": {
      "text/plain": [
       "{'Lade', 'Lanre', 'Lizzy', 'Loba', 'Lola', 'Lolu'}"
      ]
     },
     "execution_count": 15,
     "metadata": {},
     "output_type": "execute_result"
    }
   ],
   "source": [
    "SetA"
   ]
  },
  {
   "cell_type": "code",
   "execution_count": 16,
   "id": "91cfeb59",
   "metadata": {},
   "outputs": [],
   "source": [
    "SetA.remove(\"Lade\")"
   ]
  },
  {
   "cell_type": "code",
   "execution_count": 17,
   "id": "0f827b07",
   "metadata": {},
   "outputs": [
    {
     "data": {
      "text/plain": [
       "{'Lanre', 'Lizzy', 'Loba', 'Lola', 'Lolu'}"
      ]
     },
     "execution_count": 17,
     "metadata": {},
     "output_type": "execute_result"
    }
   ],
   "source": [
    "SetA"
   ]
  },
  {
   "cell_type": "code",
   "execution_count": 18,
   "id": "e1ee30c7",
   "metadata": {},
   "outputs": [
    {
     "data": {
      "text/plain": [
       "True"
      ]
     },
     "execution_count": 18,
     "metadata": {},
     "output_type": "execute_result"
    }
   ],
   "source": [
    "\"Lola\"in SetA"
   ]
  },
  {
   "cell_type": "code",
   "execution_count": 19,
   "id": "b042d88c",
   "metadata": {},
   "outputs": [
    {
     "data": {
      "text/plain": [
       "False"
      ]
     },
     "execution_count": 19,
     "metadata": {},
     "output_type": "execute_result"
    }
   ],
   "source": [
    "\"Lolo\"in SetA"
   ]
  },
  {
   "cell_type": "code",
   "execution_count": 20,
   "id": "dd22a6c9",
   "metadata": {},
   "outputs": [],
   "source": [
    "SetB={\"Love\",\"Life\",\"Lead\"}"
   ]
  },
  {
   "cell_type": "code",
   "execution_count": 21,
   "id": "9e0a700b",
   "metadata": {},
   "outputs": [
    {
     "data": {
      "text/plain": [
       "set()"
      ]
     },
     "execution_count": 21,
     "metadata": {},
     "output_type": "execute_result"
    }
   ],
   "source": [
    "SetA&SetB"
   ]
  },
  {
   "cell_type": "code",
   "execution_count": 22,
   "id": "5aa11736",
   "metadata": {},
   "outputs": [
    {
     "data": {
      "text/plain": [
       "set()"
      ]
     },
     "execution_count": 22,
     "metadata": {},
     "output_type": "execute_result"
    }
   ],
   "source": [
    "SetA & SetB"
   ]
  },
  {
   "cell_type": "code",
   "execution_count": 23,
   "id": "e4b2e4cf",
   "metadata": {},
   "outputs": [
    {
     "data": {
      "text/plain": [
       "set()"
      ]
     },
     "execution_count": 23,
     "metadata": {},
     "output_type": "execute_result"
    }
   ],
   "source": [
    "set()"
   ]
  },
  {
   "cell_type": "code",
   "execution_count": 24,
   "id": "31261ba2",
   "metadata": {},
   "outputs": [
    {
     "data": {
      "text/plain": [
       "{'Lanre', 'Lizzy', 'Loba', 'Lola', 'Lolu'}"
      ]
     },
     "execution_count": 24,
     "metadata": {},
     "output_type": "execute_result"
    }
   ],
   "source": [
    "SetA.difference(SetB)"
   ]
  },
  {
   "cell_type": "code",
   "execution_count": 25,
   "id": "8bb28fbc",
   "metadata": {},
   "outputs": [
    {
     "data": {
      "text/plain": [
       "{'Lanre', 'Lead', 'Life', 'Lizzy', 'Loba', 'Lola', 'Lolu', 'Love'}"
      ]
     },
     "execution_count": 25,
     "metadata": {},
     "output_type": "execute_result"
    }
   ],
   "source": [
    "SetA.union(SetB)"
   ]
  },
  {
   "cell_type": "code",
   "execution_count": 26,
   "id": "c26b2f29",
   "metadata": {},
   "outputs": [],
   "source": [
    "SetC=SetA.union(SetB)"
   ]
  },
  {
   "cell_type": "code",
   "execution_count": 27,
   "id": "e967338f",
   "metadata": {},
   "outputs": [
    {
     "data": {
      "text/plain": [
       "{'Lanre', 'Lead', 'Life', 'Lizzy', 'Loba', 'Lola', 'Lolu', 'Love'}"
      ]
     },
     "execution_count": 27,
     "metadata": {},
     "output_type": "execute_result"
    }
   ],
   "source": [
    "SetC"
   ]
  },
  {
   "cell_type": "code",
   "execution_count": 28,
   "id": "f2c8b19f",
   "metadata": {},
   "outputs": [
    {
     "data": {
      "text/plain": [
       "True"
      ]
     },
     "execution_count": 28,
     "metadata": {},
     "output_type": "execute_result"
    }
   ],
   "source": [
    "SetC.issuperset(SetA)"
   ]
  },
  {
   "cell_type": "code",
   "execution_count": 29,
   "id": "d03566c0",
   "metadata": {},
   "outputs": [
    {
     "data": {
      "text/plain": [
       "True"
      ]
     },
     "execution_count": 29,
     "metadata": {},
     "output_type": "execute_result"
    }
   ],
   "source": [
    "SetC.issuperset(SetB)"
   ]
  },
  {
   "cell_type": "code",
   "execution_count": 30,
   "id": "412bc8bd",
   "metadata": {},
   "outputs": [
    {
     "data": {
      "text/plain": [
       "False"
      ]
     },
     "execution_count": 30,
     "metadata": {},
     "output_type": "execute_result"
    }
   ],
   "source": [
    "SetB.issuperset(SetC)"
   ]
  },
  {
   "cell_type": "code",
   "execution_count": 31,
   "id": "6188270f",
   "metadata": {},
   "outputs": [
    {
     "data": {
      "text/plain": [
       "True"
      ]
     },
     "execution_count": 31,
     "metadata": {},
     "output_type": "execute_result"
    }
   ],
   "source": [
    "SetA.issubset(SetC)"
   ]
  },
  {
   "cell_type": "code",
   "execution_count": null,
   "id": "ce02a8e3",
   "metadata": {},
   "outputs": [],
   "source": []
  },
  {
   "cell_type": "code",
   "execution_count": 32,
   "id": "388d1aa9",
   "metadata": {},
   "outputs": [
    {
     "data": {
      "text/plain": [
       "dict_values([0, 1, 2])"
      ]
     },
     "execution_count": 32,
     "metadata": {},
     "output_type": "execute_result"
    }
   ],
   "source": [
    "D={'a':0,'b':1,'c':2}\n",
    "D.values()"
   ]
  },
  {
   "cell_type": "code",
   "execution_count": 33,
   "id": "5114271d",
   "metadata": {},
   "outputs": [
    {
     "data": {
      "text/plain": [
       "1"
      ]
     },
     "execution_count": 33,
     "metadata": {},
     "output_type": "execute_result"
    }
   ],
   "source": [
    "D={'a':0,'b':1,'c':2}\n",
    "D['b']"
   ]
  },
  {
   "cell_type": "code",
   "execution_count": null,
   "id": "eb882c23",
   "metadata": {},
   "outputs": [],
   "source": []
  },
  {
   "cell_type": "code",
   "execution_count": 34,
   "id": "7810b899",
   "metadata": {},
   "outputs": [
    {
     "data": {
      "text/plain": [
       "'a'"
      ]
     },
     "execution_count": 34,
     "metadata": {},
     "output_type": "execute_result"
    }
   ],
   "source": [
    "A=('a','b','c')\n",
    "A[0]"
   ]
  },
  {
   "cell_type": "code",
   "execution_count": 35,
   "id": "b02e97f0",
   "metadata": {},
   "outputs": [
    {
     "ename": "SyntaxError",
     "evalue": "invalid syntax (<ipython-input-35-456a2e5315c3>, line 2)",
     "output_type": "error",
     "traceback": [
      "\u001b[1;36m  File \u001b[1;32m\"<ipython-input-35-456a2e5315c3>\"\u001b[1;36m, line \u001b[1;32m2\u001b[0m\n\u001b[1;33m    if rating>=4\u001b[0m\n\u001b[1;37m                ^\u001b[0m\n\u001b[1;31mSyntaxError\u001b[0m\u001b[1;31m:\u001b[0m invalid syntax\n"
     ]
    }
   ],
   "source": [
    "rating=4\n",
    "if rating>=5\n",
    "   print(\"You are qualified\")\n",
    "else if rating == 10\n",
    "print(\"You are the best student\")\n",
    "else:\n",
    "    print(\"You are not qualified\")\n",
    "    \n",
    "\n",
    "        \n",
    "    "
   ]
  },
  {
   "cell_type": "code",
   "execution_count": 36,
   "id": "75b3f216",
   "metadata": {},
   "outputs": [
    {
     "ename": "SyntaxError",
     "evalue": "invalid syntax (<ipython-input-36-1abbe4c57658>, line 2)",
     "output_type": "error",
     "traceback": [
      "\u001b[1;36m  File \u001b[1;32m\"<ipython-input-36-1abbe4c57658>\"\u001b[1;36m, line \u001b[1;32m2\u001b[0m\n\u001b[1;33m    if rating>=5\u001b[0m\n\u001b[1;37m                ^\u001b[0m\n\u001b[1;31mSyntaxError\u001b[0m\u001b[1;31m:\u001b[0m invalid syntax\n"
     ]
    }
   ],
   "source": [
    "rating=4\n",
    "if rating>=5\n",
    "   print(\"You are qualified\")\n",
    "else if rating == 10\n",
    "print(\"You are the best student\")\n",
    "else:\n",
    "    print(\"You are not qualified\")"
   ]
  },
  {
   "cell_type": "code",
   "execution_count": 37,
   "id": "b68e093c",
   "metadata": {},
   "outputs": [
    {
     "ename": "SyntaxError",
     "evalue": "invalid syntax (<ipython-input-37-477682a4a792>, line 2)",
     "output_type": "error",
     "traceback": [
      "\u001b[1;36m  File \u001b[1;32m\"<ipython-input-37-477682a4a792>\"\u001b[1;36m, line \u001b[1;32m2\u001b[0m\n\u001b[1;33m    if rating >= 5\u001b[0m\n\u001b[1;37m                  ^\u001b[0m\n\u001b[1;31mSyntaxError\u001b[0m\u001b[1;31m:\u001b[0m invalid syntax\n"
     ]
    }
   ],
   "source": [
    "rating = 4\n",
    "if rating >= 5\n",
    "   print(\"You are qualified\")\n",
    "else if rating == 10\n",
    "   print(\"You are the best student\")\n",
    "else:\n",
    "    print(\"You are not qualified\")"
   ]
  },
  {
   "cell_type": "code",
   "execution_count": 38,
   "id": "5944f8c6",
   "metadata": {},
   "outputs": [
    {
     "ename": "SyntaxError",
     "evalue": "invalid syntax (<ipython-input-38-9b61e5a1da69>, line 2)",
     "output_type": "error",
     "traceback": [
      "\u001b[1;36m  File \u001b[1;32m\"<ipython-input-38-9b61e5a1da69>\"\u001b[1;36m, line \u001b[1;32m2\u001b[0m\n\u001b[1;33m    if rating >= 5\u001b[0m\n\u001b[1;37m                  ^\u001b[0m\n\u001b[1;31mSyntaxError\u001b[0m\u001b[1;31m:\u001b[0m invalid syntax\n"
     ]
    }
   ],
   "source": [
    "rating = 4\n",
    "if rating >= 5\n",
    "   print(\"You are qualified\")\n",
    "else if rating == 10\n",
    "   print(\"You are the best student\")\n",
    "else:\n",
    "    print(\"You are not qualified\""
   ]
  },
  {
   "cell_type": "code",
   "execution_count": 39,
   "id": "120f1634",
   "metadata": {},
   "outputs": [
    {
     "ename": "SyntaxError",
     "evalue": "invalid syntax (<ipython-input-39-4747dc97177e>, line 2)",
     "output_type": "error",
     "traceback": [
      "\u001b[1;36m  File \u001b[1;32m\"<ipython-input-39-4747dc97177e>\"\u001b[1;36m, line \u001b[1;32m2\u001b[0m\n\u001b[1;33m    if rating > 5\u001b[0m\n\u001b[1;37m                 ^\u001b[0m\n\u001b[1;31mSyntaxError\u001b[0m\u001b[1;31m:\u001b[0m invalid syntax\n"
     ]
    }
   ],
   "source": [
    "rating = 4\n",
    "if rating > 5\n",
    "   print(\"You are qualified\")\n",
    "else if rating == 10\n",
    "   print(\"You are the best student\")\n",
    "else:\n",
    "    print(\"You are not qualified\""
   ]
  },
  {
   "cell_type": "code",
   "execution_count": 40,
   "id": "b213b57d",
   "metadata": {},
   "outputs": [
    {
     "ename": "SyntaxError",
     "evalue": "invalid syntax (<ipython-input-40-09e42a2659d0>, line 2)",
     "output_type": "error",
     "traceback": [
      "\u001b[1;36m  File \u001b[1;32m\"<ipython-input-40-09e42a2659d0>\"\u001b[1;36m, line \u001b[1;32m2\u001b[0m\n\u001b[1;33m    if rating == 5\u001b[0m\n\u001b[1;37m                  ^\u001b[0m\n\u001b[1;31mSyntaxError\u001b[0m\u001b[1;31m:\u001b[0m invalid syntax\n"
     ]
    }
   ],
   "source": [
    "rating = 4\n",
    "if rating == 5\n",
    "   print(\"You are qualified\")\n",
    "else if rating == 10\n",
    "   print(\"You are the best student\")\n",
    "else:\n",
    "    print(\"You are not qualified\""
   ]
  },
  {
   "cell_type": "code",
   "execution_count": 41,
   "id": "d48ba562",
   "metadata": {},
   "outputs": [
    {
     "ename": "SyntaxError",
     "evalue": "invalid syntax (<ipython-input-41-24b300612fe4>, line 2)",
     "output_type": "error",
     "traceback": [
      "\u001b[1;36m  File \u001b[1;32m\"<ipython-input-41-24b300612fe4>\"\u001b[1;36m, line \u001b[1;32m2\u001b[0m\n\u001b[1;33m    if rating >= 5\u001b[0m\n\u001b[1;37m                  ^\u001b[0m\n\u001b[1;31mSyntaxError\u001b[0m\u001b[1;31m:\u001b[0m invalid syntax\n"
     ]
    }
   ],
   "source": [
    "rating = 4:\n",
    "if rating >= 5\n",
    "   print(\"You are qualified\")\n",
    "else if rating == 10\n",
    "   print(\"You are the best student\")\n",
    "else:\n",
    "    print(\"You are not qualified\")"
   ]
  },
  {
   "cell_type": "code",
   "execution_count": 42,
   "id": "cc002e4a",
   "metadata": {},
   "outputs": [
    {
     "ename": "SyntaxError",
     "evalue": "invalid syntax (<ipython-input-42-a3251214b0ae>, line 1)",
     "output_type": "error",
     "traceback": [
      "\u001b[1;36m  File \u001b[1;32m\"<ipython-input-42-a3251214b0ae>\"\u001b[1;36m, line \u001b[1;32m1\u001b[0m\n\u001b[1;33m    rating = 4:\u001b[0m\n\u001b[1;37m              ^\u001b[0m\n\u001b[1;31mSyntaxError\u001b[0m\u001b[1;31m:\u001b[0m invalid syntax\n"
     ]
    }
   ],
   "source": [
    "rating = 4:\n",
    "if rating >= 5:\n",
    "   print(\"You are qualified\")\n",
    "else if rating == 10:\n",
    "   print(\"You are the best student\")\n",
    "else:\n",
    "    print(\"You are not qualified\")"
   ]
  },
  {
   "cell_type": "code",
   "execution_count": 43,
   "id": "3a8c1b2c",
   "metadata": {},
   "outputs": [
    {
     "ename": "SyntaxError",
     "evalue": "invalid syntax (<ipython-input-43-aad0fcc843e6>, line 4)",
     "output_type": "error",
     "traceback": [
      "\u001b[1;36m  File \u001b[1;32m\"<ipython-input-43-aad0fcc843e6>\"\u001b[1;36m, line \u001b[1;32m4\u001b[0m\n\u001b[1;33m    else if rating == 10:\u001b[0m\n\u001b[1;37m         ^\u001b[0m\n\u001b[1;31mSyntaxError\u001b[0m\u001b[1;31m:\u001b[0m invalid syntax\n"
     ]
    }
   ],
   "source": [
    "rating = 4\n",
    "if rating >= 5:\n",
    "   print(\"You are qualified\")\n",
    "else if rating == 10:\n",
    "   print(\"You are the best student\")\n",
    "else:\n",
    "    print(\"You are not qualified\")"
   ]
  },
  {
   "cell_type": "code",
   "execution_count": 44,
   "id": "28b0277a",
   "metadata": {},
   "outputs": [
    {
     "name": "stdout",
     "output_type": "stream",
     "text": [
      "You are not qualified\n"
     ]
    }
   ],
   "source": [
    "rating = 4\n",
    "if rating >= 5:\n",
    "   print(\"You are qualified\")\n",
    "elif rating == 10:\n",
    "   print(\"You are the best student\")\n",
    "else:\n",
    "    print(\"You are not qualified\")"
   ]
  },
  {
   "cell_type": "code",
   "execution_count": 45,
   "id": "3e7826ff",
   "metadata": {},
   "outputs": [
    {
     "name": "stdout",
     "output_type": "stream",
     "text": [
      "You are qualified\n"
     ]
    }
   ],
   "source": [
    "rating = 5\n",
    "if rating >= 5:\n",
    "   print(\"You are qualified\")\n",
    "elif rating == 10:\n",
    "   print(\"You are the best student\")\n",
    "else:\n",
    "    print(\"You are not qualified\")"
   ]
  },
  {
   "cell_type": "code",
   "execution_count": 46,
   "id": "b527115e",
   "metadata": {},
   "outputs": [
    {
     "name": "stdout",
     "output_type": "stream",
     "text": [
      "You are not qualified\n"
     ]
    }
   ],
   "source": [
    "rating = 4\n",
    "if rating >= 5:\n",
    "   print(\"You are qualified\")\n",
    "elif rating == 10:\n",
    "   print(\"You are the best student\")\n",
    "else:\n",
    "    print(\"You are not qualified\")"
   ]
  },
  {
   "cell_type": "code",
   "execution_count": 47,
   "id": "d54820d3",
   "metadata": {},
   "outputs": [
    {
     "name": "stdout",
     "output_type": "stream",
     "text": [
      "You are qualified\n"
     ]
    }
   ],
   "source": [
    "rating = 4\n",
    "if rating <= 5:\n",
    "   print(\"You are qualified\")\n",
    "elif rating == 10:\n",
    "   print(\"You are the best student\")\n",
    "else:\n",
    "    print(\"You are not qualified\")"
   ]
  },
  {
   "cell_type": "code",
   "execution_count": null,
   "id": "5b1b86c9",
   "metadata": {},
   "outputs": [],
   "source": []
  },
  {
   "cell_type": "code",
   "execution_count": 48,
   "id": "10a341ce",
   "metadata": {},
   "outputs": [
    {
     "name": "stdout",
     "output_type": "stream",
     "text": [
      "You are qualified\n"
     ]
    }
   ],
   "source": [
    "rating = 5\n",
    "if rating >= 4:\n",
    "   print(\"You are qualified\")\n",
    "elif rating == 10:\n",
    "   print(\"You are the best student\")\n",
    "else:\n",
    "    print(\"You are not qualified\")"
   ]
  },
  {
   "cell_type": "code",
   "execution_count": null,
   "id": "0e38e0cd",
   "metadata": {},
   "outputs": [],
   "source": []
  }
 ],
 "metadata": {
  "kernelspec": {
   "display_name": "Python 3",
   "language": "python",
   "name": "python3"
  },
  "language_info": {
   "codemirror_mode": {
    "name": "ipython",
    "version": 3
   },
   "file_extension": ".py",
   "mimetype": "text/x-python",
   "name": "python",
   "nbconvert_exporter": "python",
   "pygments_lexer": "ipython3",
   "version": "3.8.8"
  }
 },
 "nbformat": 4,
 "nbformat_minor": 5
}
